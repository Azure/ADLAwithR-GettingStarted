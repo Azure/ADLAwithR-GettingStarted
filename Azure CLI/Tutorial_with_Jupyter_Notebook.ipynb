{
 "cells": [
  {
   "cell_type": "markdown",
   "metadata": {},
   "source": [
    "# &nbsp;&nbsp;&nbsp;&nbsp;&nbsp;&nbsp; Getting started with Azure Data Lake Analytics using R tutorial"
   ]
  },
  {
   "cell_type": "markdown",
   "metadata": {},
   "source": [
    "# &nbsp;&nbsp;&nbsp;&nbsp;&nbsp;&nbsp;&nbsp;&nbsp;&nbsp;&nbsp;&nbsp;&nbsp;&nbsp;&nbsp;&nbsp;&nbsp;&nbsp;&nbsp;  with Jupyter Notebook and Azure CLI"
   ]
  },
  {
   "cell_type": "markdown",
   "metadata": {},
   "source": [
    "## Contents\n",
    "- [Create Azure Resources](#section1)\n",
    "- [Get set up](#section2)\n",
    "- [Submit Jobs](#section3)\n",
    "- [View results](#section4)\n",
    "- [Clean up](#section5)"
   ]
  },
  {
   "cell_type": "markdown",
   "metadata": {},
   "source": [
    "<a id=\"section1\"></a>"
   ]
  },
  {
   "cell_type": "markdown",
   "metadata": {},
   "source": [
    "## Create Azure Resources"
   ]
  },
  {
   "cell_type": "markdown",
   "metadata": {},
   "source": [
    "- A prerequisite for this tutorial is that you have an Azure subscription. \n",
    "- We will provision a **Data Lake Analytiscs Account** and a **Data Lake Store** in your subscription. \n",
    "- Additionally we will transfer scripts needed for this tutorial to a folder in your Data Lake Store. "
   ]
  },
  {
   "cell_type": "code",
   "execution_count": null,
   "metadata": {
    "collapsed": false
   },
   "outputs": [],
   "source": [
    "import os\n",
    "mycwd = os.getcwd()\n",
    "print('My current working directory is',mycwd)"
   ]
  },
  {
   "cell_type": "code",
   "execution_count": null,
   "metadata": {
    "collapsed": false
   },
   "outputs": [],
   "source": [
    "# Clone the repository\n",
    "!git clone https://github.com/Azure/ADLAwithR-GettingStarted.git"
   ]
  },
  {
   "cell_type": "markdown",
   "metadata": {},
   "source": [
    "**Note**: If you see an error like 'git' is not recognized as an internal or external command,\n",
    "operable program or batch file and you have it installed, you might need to set your PATH to point at your git installation. Read more @ https://stackoverflow.com/questions/4492979/git-is-not-recognized-as-an-internal-or-external-command "
   ]
  },
  {
   "cell_type": "code",
   "execution_count": 1,
   "metadata": {
    "collapsed": false
   },
   "outputs": [
    {
     "name": "stdout",
     "output_type": "stream",
     "text": [
      "package already installed\n",
      "pip 9.0.1 from c:\\program files\\anaconda3\\lib\\site-packages (python 3.5)\n",
      "\n"
     ]
    }
   ],
   "source": [
    "# Install Azure CLI\n",
    "package = 'azure-cli'\n",
    "try:\n",
    "    __import__(package)\n",
    "except ImportError:\n",
    "    print('package already installed')\n",
    "    ispip = 1    \n",
    "\n",
    "if ispip:\n",
    "    !pip --version\n",
    "else:\n",
    "    !pip install -I azure-cli\n",
    "    !pip --version"
   ]
  },
  {
   "cell_type": "markdown",
   "metadata": {},
   "source": [
    "Login to you azure account.   \n",
    "Executing the command below will initiate a login to your Azure account and show a message ~  \n",
    "`To sign in, use a web browser to open the page https://aka.ms/devicelogin and enter the code XXXXXXXXX to authenticate.`   \n",
    "Cope the code from your screen, follow the url and paste the code. This will log you into the Azure account within the Azure CLI.  \n",
    "Note: If you have signed in through a cmd window, you can test your login by using this command !az account show\n"
   ]
  },
  {
   "cell_type": "code",
   "execution_count": null,
   "metadata": {
    "collapsed": true
   },
   "outputs": [],
   "source": [
    "!az login -o table"
   ]
  },
  {
   "cell_type": "code",
   "execution_count": null,
   "metadata": {
    "collapsed": false
   },
   "outputs": [],
   "source": [
    "# # List the different subscriptions\n",
    "!az account list | grep name | grep -v '@'"
   ]
  },
  {
   "cell_type": "code",
   "execution_count": null,
   "metadata": {
    "collapsed": true
   },
   "outputs": [],
   "source": [
    "selected_subscription = \"YOUR SUBSCRIPTION\" # # Replace with the name of your subscription, select from above\n",
    "!az account set --subscription $selected_subscription"
   ]
  },
  {
   "cell_type": "code",
   "execution_count": null,
   "metadata": {
    "collapsed": false
   },
   "outputs": [],
   "source": [
    "# make sure you are in the right subscription\n",
    "!az account show"
   ]
  },
  {
   "cell_type": "markdown",
   "metadata": {},
   "source": [
    "Create a unique string (that has not been chosen by another Azure user). This string can include only lowercase letters and numbers, and must be less than 20 characters in length."
   ]
  },
  {
   "cell_type": "code",
   "execution_count": 21,
   "metadata": {
    "collapsed": false
   },
   "outputs": [
    {
     "name": "stdout",
     "output_type": "stream",
     "text": [
      "shaheendemo2b63\n"
     ]
    }
   ],
   "source": [
    "import uuid\n",
    "unique_string = \"shaheendemo\"  \n",
    "unique_string = unique_string + str(uuid.uuid4())[:4]\n",
    "print(unique_string)  "
   ]
  },
  {
   "cell_type": "code",
   "execution_count": 22,
   "metadata": {
    "collapsed": true
   },
   "outputs": [],
   "source": [
    "RESOURCE_GROUP_NAME = unique_string + 'rg'\n",
    "ADLA_NAME = unique_string + 'adla'\n",
    "ADLS_NAME = unique_string + 'adls'\n",
    "LOCATION = '"Central US"'"
   ]
  },
  {
   "cell_type": "code",
   "execution_count": 23,
   "metadata": {
    "collapsed": false
   },
   "outputs": [
    {
     "name": "stdout",
     "output_type": "stream",
     "text": [
      "shaheendemo2b63rg\n",
      "shaheendemo2b63adla\n",
      "shaheendemo2b63adls\n",
      "Central US\n"
     ]
    }
   ],
   "source": [
    "print(RESOURCE_GROUP_NAME)\n",
    "print(ADLA_NAME)\n",
    "print(ADLS_NAME)\n",
    "print(LOCATION)"
   ]
  },
  {
   "cell_type": "code",
   "execution_count": null,
   "metadata": {
    "collapsed": true
   },
   "outputs": [],
   "source": [
    "# To create a new resource group:\n",
    "!az group create -n $RESOURCE_GROUP_NAME -l $LOCATION \n",
    "#!az group create --name shaheendemo2b63rg --location \"Central US\""
   ]
  },
  {
   "cell_type": "code",
   "execution_count": null,
   "metadata": {
    "collapsed": true
   },
   "outputs": [],
   "source": [
    "# If you don't already have one create a new Data Lake Store account: \n",
    "# This will be the default data lake store account associated with this adla account\n",
    "!az dls account create --account $ADLS_NAME --resource-group $RESOURCE_GROUP_NAME\n",
    "#!az dls account create --account \"shaheendemo2b63adls\" --resource-group \"shaheendemo2b63rg\""
   ]
  },
  {
   "cell_type": "code",
   "execution_count": null,
   "metadata": {
    "collapsed": true
   },
   "outputs": [],
   "source": [
    "# If you don't already have one create a Data Lake Analytics account:\n",
    "!az dla account create --account $ADLA_NAME --resource-group $RESOURCE_GROUP_NAME --location $LOCATION --default-data-lake-store $ADLS_NAME\n",
    "#!az dla account create --account \"shaheendemo2b63adla\" --resource-group \"shaheendemo2b63rg\" --location \"Central US\" --default-data-lake-store \"shaheendemo2b63adls\""
   ]
  },
  {
   "cell_type": "markdown",
   "metadata": {},
   "source": [
    "**Note**: One additional important step is to install U-SQL Extensions in your ADLA account.  \n",
    "-  Got to azure portal and in the data lake analytics blade, locate and click on Sample Scripts under the GETTING STARTED section in the left-hand menu. (You may need to scroll down or use the search feature.)\n",
    "-  In the Sample Scripts blade, click on Install U-SQL Extensions to install U-SQL Extensions to your account.\n",
    "-  This step will enable R (and Python) extensions to work with ADLA.\n",
    "-  This step may take several minutes to complete."
   ]
  },
  {
   "cell_type": "markdown",
   "metadata": {},
   "source": [
    "<a id='section2'></a>"
   ]
  },
  {
   "cell_type": "markdown",
   "metadata": {},
   "source": [
    "## Get set up"
   ]
  },
  {
   "cell_type": "markdown",
   "metadata": {},
   "source": [
    "Next we will upload the folder ADLSmaterial on our local machine to the folder TutorialMaterial in Data Lake Store. If you haven't changed directory since you cloned the repository the folder ADLSmaterial shoould be in the location below."
   ]
  },
  {
   "cell_type": "code",
   "execution_count": 36,
   "metadata": {
    "collapsed": false
   },
   "outputs": [],
   "source": [
    "path_folderlocal = os.path.join(mycwd, \"ADLAwithR-GettingStarted\",\"Tutorial\",\"ADLSmaterial\")"
   ]
  },
  {
   "cell_type": "code",
   "execution_count": 35,
   "metadata": {
    "collapsed": false
   },
   "outputs": [
    {
     "data": {
      "text/plain": [
       "['dplyrWithDependencies.zip',\n",
       " 'magrittr_1.5.zip',\n",
       " 'myiris.csv',\n",
       " 'myiris_wheader.csv',\n",
       " 'readme.txt',\n",
       " 'Rscript2runlocally_packages.R',\n",
       " 'rscriptEx2.R',\n",
       " 'rscriptEx7b.R',\n",
       " 'rscriptEx8b.R']"
      ]
     },
     "execution_count": 35,
     "metadata": {},
     "output_type": "execute_result"
    }
   ],
   "source": [
    "os.listdir(path_folderlocal)"
   ]
  },
  {
   "cell_type": "code",
   "execution_count": null,
   "metadata": {
    "collapsed": true
   },
   "outputs": [],
   "source": [
    "!az dls fs upload --account $ADLS_NAME --source-path $path_folderlocal --destination-path \"/TutorialMaterial\"    \n",
    "#!az dls fs upload --account shaheendemo2b63adls  --source-path \"C:\\Users\\gshaheen\\Documents\\ADLAwithR-GettingStarted\\Tutorial\\ADLSmaterial\"  --destination-path \"/TutorialMaterial\" \n"
   ]
  },
  {
   "cell_type": "markdown",
   "metadata": {},
   "source": [
    "The command above will create a folder TutorialMaterial in your Data Lake Store and transfer the contents of ADLSmaterial to it.\n",
    "\n",
    "List the files in the folder TutorialMaterial that we created above in your Data Lake Store account."
   ]
  },
  {
   "cell_type": "code",
   "execution_count": null,
   "metadata": {
    "collapsed": true
   },
   "outputs": [],
   "source": [
    "!az dls fs list --account $ADLS_NAME --path /TutorialMaterial"
   ]
  },
  {
   "cell_type": "markdown",
   "metadata": {},
   "source": [
    "<a id='section3'></a>"
   ]
  },
  {
   "cell_type": "markdown",
   "metadata": {},
   "source": [
    "## Submit Jobs"
   ]
  },
  {
   "cell_type": "code",
   "execution_count": 9,
   "metadata": {
    "collapsed": false
   },
   "outputs": [
    {
     "data": {
      "text/plain": [
       "True"
      ]
     },
     "execution_count": 9,
     "metadata": {},
     "output_type": "execute_result"
    }
   ],
   "source": [
    "# If you haven't changed the directory since you git cloned the path should be as follows\n",
    "script_usql = os.path.join(mycwd, \"ADLAwithR-GettingStarted\",\"Tutorial\",'Exercise1','usqlscriptEx1.usql')\n",
    "os.path.isfile(script_usql)"
   ]
  },
  {
   "cell_type": "code",
   "execution_count": null,
   "metadata": {
    "collapsed": false
   },
   "outputs": [],
   "source": [
    "# make sure you are in the right data lake analytics account\n",
    "!az dla account show --account $ADLA_NAME "
   ]
  },
  {
   "cell_type": "code",
   "execution_count": 20,
   "metadata": {
    "collapsed": false
   },
   "outputs": [
    {
     "name": "stdout",
     "output_type": "stream",
     "text": [
      "  \"jobId\": \"bbbf4ce2-a3aa-11e7-a07d-54ee7528f313\",\n"
     ]
    }
   ],
   "source": [
    "# Submit script_usql to adla and grab the jobId for the submitted job\n",
    "!az dla job submit --account $ADLA_NAME --job-name \"myadlajobex2\" --script @$script_usql | grep \"jobId\""
   ]
  },
  {
   "cell_type": "markdown",
   "metadata": {
    "collapsed": true
   },
   "source": [
    "#### Congratulations! you submitted the first adla job of this tutorial. To check the status of your job:"
   ]
  },
  {
   "cell_type": "code",
   "execution_count": 32,
   "metadata": {
    "collapsed": true
   },
   "outputs": [],
   "source": [
    "jobId = \"bbbf4ce2-a3aa-11e7-a07d-54ee7528f313\"  # from above"
   ]
  },
  {
   "cell_type": "code",
   "execution_count": 34,
   "metadata": {
    "collapsed": false
   },
   "outputs": [
    {
     "name": "stdout",
     "output_type": "stream",
     "text": [
      "  \"state\": \"Ended\",\n"
     ]
    }
   ],
   "source": [
    "!az dla job show --account $ADLA_NAME --job-identity $jobId | grep '\"state\":'"
   ]
  },
  {
   "cell_type": "code",
   "execution_count": 35,
   "metadata": {
    "collapsed": false
   },
   "outputs": [
    {
     "name": "stdout",
     "output_type": "stream",
     "text": [
      "  \"result\": \"Succeeded\",\n"
     ]
    }
   ],
   "source": [
    "!az dla job show --account $ADLA_NAME --job-identity $jobId | grep '\"result\":'"
   ]
  },
  {
   "cell_type": "markdown",
   "metadata": {},
   "source": [
    "<a id='section4'></a>"
   ]
  },
  {
   "cell_type": "markdown",
   "metadata": {},
   "source": [
    "## View Results  \n",
    "After a job is completed, you can use the following commands to list the output files, and download the files:"
   ]
  },
  {
   "cell_type": "code",
   "execution_count": 27,
   "metadata": {
    "collapsed": false
   },
   "outputs": [
    {
     "name": "stdout",
     "output_type": "stream",
     "text": [
      "\"Par,sepal_length,sepal_width,petal_length,petal_width,species,mynewcol\\r\\n0,5.1,3.5,1.4,0.2,Iris-setosa,6\\r\\n0,4.9,3.0,1.4,0.2,Iris-\"\n"
     ]
    }
   ],
   "source": [
    "# You can preview the output created\n",
    "!az dls fs preview --account $ADLS_NAME --path \"/TutorialMaterial/outex1.txt\" --length 128 --offset 0"
   ]
  },
  {
   "cell_type": "code",
   "execution_count": null,
   "metadata": {
    "collapsed": false
   },
   "outputs": [],
   "source": [
    "# To download the output file:\n",
    "path_todownload = os.path.join(mycwd, \"ADLAwithR-GettingStarted\",\"Tutorial\",'Exercise1','outex1.txt')\n",
    "!az dls fs download --account $ADLS_NAME --source-path \"/TutorialMaterial/outex1.txt\" --destination-path $path_todownload" --overwrite
   ]
  },
  {
   "cell_type": "markdown",
   "metadata": {},
   "source": [
    "<a id='section5'></a>"
   ]
  },
  {
   "cell_type": "markdown",
   "metadata": {},
   "source": [
    "## Clean up\n",
    "Once you have completed the tutorial and have no further need for the Data Lake Analytics Account and Data Lake Store created for the purpose **please delete these resources in your subscription** to avoid incurring costs."
   ]
  },
  {
   "cell_type": "code",
   "execution_count": null,
   "metadata": {
    "collapsed": true
   },
   "outputs": [],
   "source": [
    "# To delete Azure Data Lake Analytics account\n",
    "!az dla account delete --account $ADLA_NAME\n",
    "\n",
    "# To delete Azure Data Lake Store\n",
    "!az dls account delete --account $ADLS_NAME\n",
    "\n",
    "# Or you can delete the resource group which will delete all the resources in that resource group (press y when prompted).\n",
    "!y | az group delete --name RESOURCE_GROUP_NAME"
   ]
  }
 ],
 "metadata": {
  "anaconda-cloud": {},
  "kernelspec": {
   "display_name": "Python [default]",
   "language": "python",
   "name": "python3"
  },
  "language_info": {
   "codemirror_mode": {
    "name": "ipython",
    "version": 3
   },
   "file_extension": ".py",
   "mimetype": "text/x-python",
   "name": "python",
   "nbconvert_exporter": "python",
   "pygments_lexer": "ipython3",
   "version": "3.5.2"
  }
 },
 "nbformat": 4,
 "nbformat_minor": 1
}
